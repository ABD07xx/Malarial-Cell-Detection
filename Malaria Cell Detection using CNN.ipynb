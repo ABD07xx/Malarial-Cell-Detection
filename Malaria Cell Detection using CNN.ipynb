{
 "cells": [
  {
   "cell_type": "markdown",
   "metadata": {},
   "source": [
    "## Importing Libraries"
   ]
  },
  {
   "cell_type": "code",
   "execution_count": 58,
   "metadata": {},
   "outputs": [],
   "source": [
    "import numpy as np\n",
    "import pandas as pd\n",
    "import matplotlib.pyplot as plt\n",
    "\n",
    "import os\n",
    "import cv2\n",
    "\n",
    "from PIL import Image\n",
    "\n",
    "from tensorflow import keras\n",
    "import tensorflow.keras.layers as k\n",
    "\n",
    "from tqdm import tqdm"
   ]
  },
  {
   "cell_type": "markdown",
   "metadata": {},
   "source": [
    "## Data"
   ]
  },
  {
   "cell_type": "code",
   "execution_count": 4,
   "metadata": {},
   "outputs": [],
   "source": [
    "from keras.preprocessing.image import ImageDataGenerator, load_img"
   ]
  },
  {
   "cell_type": "code",
   "execution_count": 7,
   "metadata": {},
   "outputs": [
    {
     "data": {
      "image/png": "[encoded data removed]",
      "text/plain": [
       "<PIL.Image.Image image mode=RGB size=64x64 at 0x224F937C670>"
      ]
     },
     "execution_count": 7,
     "metadata": {},
     "output_type": "execute_result"
    }
   ],
   "source": [
    "load_img(r\"C:\\Users\\cell_images\\Parasitized\\C33P1thinF_IMG_20150619_114756a_cell_179.png\",target_size=(64,64))"
   ]
  },
  {
   "cell_type": "code",
   "execution_count": 11,
   "metadata": {},
   "outputs": [],
   "source": [
    "os.environ['KERAS_BACKEND'] = 'tensorflow'\n",
    "np.random.seed(312)"
   ]
  },
  {
   "cell_type": "code",
   "execution_count": 13,
   "metadata": {},
   "outputs": [],
   "source": [
    "image_dir = r\"C:\\Users\\cell_images\"\n",
    "size = 64\n",
    "dataset = []\n",
    "label = []"
   ]
  },
  {
   "cell_type": "code",
   "execution_count": 52,
   "metadata": {},
   "outputs": [],
   "source": [
    "parasitized_img = os.listdir(image_dir+\"\\\\Parasitized\")\n",
    "\n",
    "for i,img_name in enumerate(tqdm(parasitized_img)):\n",
    "    if(img_name.split('.')[1] == 'png'):\n",
    "        image = cv2.imread(image_dir + \"\\\\Parasitized\\\\\" + img_name)\n",
    "        image = Image.fromarray(image,'RGB')\n",
    "        image = image.resize((size , size))\n",
    "        \n",
    "        dataset.append(np.array(image))\n",
    "        label.append(0)"
   ]
  },
  {
   "cell_type": "code",
   "execution_count": 54,
   "metadata": {},
   "outputs": [],
   "source": [
    "uninfected_img = os.listdir(image_dir+\"\\\\Uninfected\")\n",
    "\n",
    "for i,img_name in enumerate(tqdm(uninfected_img)):\n",
    "    if(img_name.split('.')[1] == 'png'):\n",
    "        image = cv2.imread(image_dir + \"\\\\Uninfected\\\\\" + img_name)\n",
    "        image = Image.fromarray(image,'RGB')\n",
    "        image = image.resize((size , size))\n",
    "        \n",
    "        dataset.append(np.array(image))\n",
    "        label.append(1)"
   ]
  },
  {
   "cell_type": "code",
   "execution_count": 60,
   "metadata": {},
   "outputs": [],
   "source": [
    "from sklearn.model_selection import train_test_split\n",
    "from keras.utils import to_categorical\n",
    "\n",
    "xtrain,xtest,ytrain,ytest = train_test_split(dataset,to_categorical(np.array(label)),test_size = 0.2 ,random_state = 0)"
   ]
  },
  {
   "cell_type": "markdown",
   "metadata": {},
   "source": [
    "### CNN Architecture"
   ]
  },
  {
   "cell_type": "code",
   "execution_count": 61,
   "metadata": {},
   "outputs": [],
   "source": [
    "Input_shape = (size,size,3)\n",
    "\n",
    "inp = k.Input(shape = Input_shape)\n",
    "\n",
    "conv1 = k.Conv2D(32,kernel_size = (3,3),activation = \"relu\",padding=\"same\")(inp)\n",
    "pool1 = k.MaxPool2D(pool_size = (2,2))(conv1)\n",
    "norm1 = k.BatchNormalization(axis = -1)(pool1)\n",
    "drop1 = k.Dropout(rate = 0.2)(norm1)\n",
    "\n",
    "conv2 = k.Conv2D(32,kernel_size = (3,3),activation = \"relu\",padding=\"same\")(drop1)\n",
    "pool2 = k.MaxPool2D(pool_size = (2,2))(conv2)\n",
    "norm2 = k.BatchNormalization(axis = -1)(pool2)\n",
    "drop2 = k.Dropout(rate = 0.2)(norm2)\n",
    "\n",
    "flat = k.Flatten()(drop2)\n",
    "\n",
    "hidden1 = k.Dense(512,activation=\"relu\")(flat)\n",
    "norm3   = k.BatchNormalization(axis=-1)(hidden1)\n",
    "drop3   = k.Dropout(rate=0.2)(norm3)\n",
    "\n",
    "hidden2 = k.Dense(256,activation=\"relu\")(drop3)\n",
    "norm4   = k.BatchNormalization(axis=-1)(hidden2)\n",
    "drop4   = k.Dropout(rate=0.2)(norm4)\n",
    "\n",
    "out = k.Dense(2, activation='sigmoid')(drop4)\n"
   ]
  },
  {
   "cell_type": "code",
   "execution_count": 67,
   "metadata": {},
   "outputs": [
    {
     "name": "stdout",
     "output_type": "stream",
     "text": [
      "Model: \"model_2\"\n",
      "_________________________________________________________________\n",
      "Layer (type)                 Output Shape              Param #   \n",
      "=================================================================\n",
      "input_1 (InputLayer)         [(None, 64, 64, 3)]       0         \n",
      "_________________________________________________________________\n",
      "conv2d (Conv2D)              (None, 64, 64, 32)        896       \n",
      "_________________________________________________________________\n",
      "max_pooling2d (MaxPooling2D) (None, 32, 32, 32)        0         \n",
      "_________________________________________________________________\n",
      "batch_normalization (BatchNo (None, 32, 32, 32)        128       \n",
      "_________________________________________________________________\n",
      "dropout (Dropout)            (None, 32, 32, 32)        0         \n",
      "_________________________________________________________________\n",
      "conv2d_1 (Conv2D)            (None, 32, 32, 32)        9248      \n",
      "_________________________________________________________________\n",
      "max_pooling2d_1 (MaxPooling2 (None, 16, 16, 32)        0         \n",
      "_________________________________________________________________\n",
      "batch_normalization_1 (Batch (None, 16, 16, 32)        128       \n",
      "_________________________________________________________________\n",
      "dropout_1 (Dropout)          (None, 16, 16, 32)        0         \n",
      "_________________________________________________________________\n",
      "flatten (Flatten)            (None, 8192)              0         \n",
      "_________________________________________________________________\n",
      "dense (Dense)                (None, 512)               4194816   \n",
      "_________________________________________________________________\n",
      "batch_normalization_2 (Batch (None, 512)               2048      \n",
      "_________________________________________________________________\n",
      "dropout_2 (Dropout)          (None, 512)               0         \n",
      "_________________________________________________________________\n",
      "dense_1 (Dense)              (None, 256)               131328    \n",
      "_________________________________________________________________\n",
      "batch_normalization_3 (Batch (None, 256)               1024      \n",
      "_________________________________________________________________\n",
      "dropout_3 (Dropout)          (None, 256)               0         \n",
      "_________________________________________________________________\n",
      "dense_2 (Dense)              (None, 2)                 514       \n",
      "=================================================================\n",
      "Total params: 4,340,130\n",
      "Trainable params: 4,338,466\n",
      "Non-trainable params: 1,664\n",
      "_________________________________________________________________\n",
      "None\n"
     ]
    }
   ],
   "source": [
    "model = keras.Model(inputs = inp , outputs = out)\n",
    "model.compile(optimizer = 'adam',loss='categorical_crossentropy',metrics = ['accuracy'])\n",
    "print(model.summary())"
   ]
  },
  {
   "cell_type": "code",
   "execution_count": 70,
   "metadata": {},
   "outputs": [
    {
     "name": "stdout",
     "output_type": "stream",
     "text": [
      "Epoch 1/5\n",
      "327/327 [==============================] - 47s 145ms/step - loss: 0.3059 - accuracy: 0.8727 - val_loss: 0.7151 - val_accuracy: 0.8346\n",
      "Epoch 2/5\n",
      "327/327 [==============================] - 46s 141ms/step - loss: 0.2790 - accuracy: 0.8843 - val_loss: 0.6360 - val_accuracy: 0.8079\n",
      "Epoch 3/5\n",
      "327/327 [==============================] - 47s 143ms/step - loss: 0.2604 - accuracy: 0.8904 - val_loss: 0.4025 - val_accuracy: 0.8626\n",
      "Epoch 4/5\n",
      "327/327 [==============================] - 45s 137ms/step - loss: 0.2483 - accuracy: 0.8975 - val_loss: 0.4513 - val_accuracy: 0.8738\n",
      "Epoch 5/5\n",
      "327/327 [==============================] - 47s 145ms/step - loss: 0.2348 - accuracy: 0.9025 - val_loss: 0.3173 - val_accuracy: 0.8876\n"
     ]
    }
   ],
   "source": [
    "history = model.fit(np.array(xtrain),ytrain,\n",
    "                   batch_size= 64,verbose=1,epochs = 5,validation_split=0.1,shuffle=False)"
   ]
  },
  {
   "cell_type": "code",
   "execution_count": 71,
   "metadata": {},
   "outputs": [
    {
     "name": "stdout",
     "output_type": "stream",
     "text": [
      "182/182 [==============================] - 3s 17ms/step - loss: 0.3200 - accuracy: 0.8863\n",
      "Test accuracy: 88.63%\n"
     ]
    }
   ],
   "source": [
    "print(\"Test accuracy: {:.2f}%\".format(model.evaluate(np.array(xtest),np.array(ytest))[1]*100))"
   ]
  },
  {
   "cell_type": "code",
   "execution_count": null,
   "metadata": {},
   "outputs": [],
   "source": []
  }
 ],
 "metadata": {
  "kernelspec": {
   "display_name": "Python 3",
   "language": "python",
   "name": "python3"
  },
  "language_info": {
   "codemirror_mode": {
    "name": "ipython",
    "version": 3
   },
   "file_extension": ".py",
   "mimetype": "text/x-python",
   "name": "python",
   "nbconvert_exporter": "python",
   "pygments_lexer": "ipython3",
   "version": "3.8.5"
  }
 },
 "nbformat": 4,
 "nbformat_minor": 4
}
